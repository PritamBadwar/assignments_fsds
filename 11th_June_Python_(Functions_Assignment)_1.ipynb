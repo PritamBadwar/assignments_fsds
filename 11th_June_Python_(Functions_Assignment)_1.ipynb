{
  "nbformat": 4,
  "nbformat_minor": 0,
  "metadata": {
    "colab": {
      "provenance": [],
      "authorship_tag": "ABX9TyOAcTP/1IAgtQDKeviKs7gg",
      "include_colab_link": true
    },
    "kernelspec": {
      "name": "python3",
      "display_name": "Python 3"
    },
    "language_info": {
      "name": "python"
    }
  },
  "cells": [
    {
      "cell_type": "markdown",
      "metadata": {
        "id": "view-in-github",
        "colab_type": "text"
      },
      "source": [
        "<a href=\"https://colab.research.google.com/github/PritamBadwar/assignments_fsds/blob/main/11th_June_Python_(Functions_Assignment)_1.ipynb\" target=\"_parent\"><img src=\"https://colab.research.google.com/assets/colab-badge.svg\" alt=\"Open In Colab\"/></a>"
      ]
    },
    {
      "cell_type": "markdown",
      "source": [
        "Q1. What is a lambda function in Python, and how does it differ from a regular function?\n",
        "\n",
        "Ans: Lambda functions are often used where small, simple functions needed. Lambda functions are anonymouns, simple and with concise syntax than regular functions.\n",
        "While regular functions are more flexible and can handle more complex tasks."
      ],
      "metadata": {
        "id": "4Rp_agLF6juw"
      }
    },
    {
      "cell_type": "markdown",
      "source": [
        "Q2. Can a lambda function in Python have multiple arguments? If yes, how can you define and use them?\n",
        "\n",
        "Ans: Yes, lambda function can have multiple arguments."
      ],
      "metadata": {
        "id": "gN4IZB4P8UvF"
      }
    },
    {
      "cell_type": "code",
      "source": [
        "#e.g below\n",
        "multi = lambda x,y: x*y\n",
        "multi(3,4)"
      ],
      "metadata": {
        "colab": {
          "base_uri": "https://localhost:8080/"
        },
        "id": "hPjQRV-Z8-jR",
        "outputId": "76376346-0b6f-44c1-a371-5afcd3c3b836"
      },
      "execution_count": 28,
      "outputs": [
        {
          "output_type": "execute_result",
          "data": {
            "text/plain": [
              "12"
            ]
          },
          "metadata": {},
          "execution_count": 28
        }
      ]
    },
    {
      "cell_type": "markdown",
      "source": [
        "Q.3 How are lambda functions typically used in Python? Provide an example use case.\n",
        "\n",
        "Ans: Lambda functions are used where small, one time functions are needed, specially when working with higher order functions like map(), filter(), reduce()"
      ],
      "metadata": {
        "id": "9dhrnP2n9QEw"
      }
    },
    {
      "cell_type": "code",
      "source": [
        "#e.g below\n",
        "num = [2,3,4]\n",
        "\n",
        "sqrd = map(lambda x: x**2, num)\n",
        "list(sqrd)"
      ],
      "metadata": {
        "colab": {
          "base_uri": "https://localhost:8080/"
        },
        "id": "4xqi7ppN7HdL",
        "outputId": "d3deec2c-d934-4c0a-8aea-b27b9b2774fa"
      },
      "execution_count": 29,
      "outputs": [
        {
          "output_type": "execute_result",
          "data": {
            "text/plain": [
              "[4, 9, 16]"
            ]
          },
          "metadata": {},
          "execution_count": 29
        }
      ]
    },
    {
      "cell_type": "markdown",
      "source": [
        "Q.4 What are the advantages and limitations of lambda functions compared to regular functions in Python?\n",
        "\n",
        "- Advantages: Simple, Concise, Easy to read, Anonymous, Easy to use with higher order functions\n",
        "\n",
        "- Dis-advantages: Limited functionality, limited reusability, difficult to debug"
      ],
      "metadata": {
        "id": "UydmONQW-rH4"
      }
    },
    {
      "cell_type": "markdown",
      "source": [
        "Q.5 Are lambda functions in Python able to access variables defined outside of their own scope? Explain with an example.\n",
        "\n",
        "Ans: Yes, lambda functions can access varialbles from surrounding environment and also global variable, e.g below"
      ],
      "metadata": {
        "id": "d4PKQ3mR_phQ"
      }
    },
    {
      "cell_type": "code",
      "source": [
        "#e.g below\n",
        "def out_fun(num):\n",
        "  x = 10\n",
        "  sqrd = lambda num: num*2 + x\n",
        "  return sqrd(num)\n",
        "\n",
        "out_fun(5)"
      ],
      "metadata": {
        "colab": {
          "base_uri": "https://localhost:8080/"
        },
        "id": "FY752Q7fJR4K",
        "outputId": "e97bb32b-8284-42d1-cc29-8b53320563e7"
      },
      "execution_count": 30,
      "outputs": [
        {
          "output_type": "execute_result",
          "data": {
            "text/plain": [
              "20"
            ]
          },
          "metadata": {},
          "execution_count": 30
        }
      ]
    },
    {
      "cell_type": "markdown",
      "source": [
        "Q.6 Write a lambda function to calculate the square of a given number."
      ],
      "metadata": {
        "id": "PneghlotKZHi"
      }
    },
    {
      "cell_type": "code",
      "source": [
        "sqr = lambda x: x**2\n",
        "sqr(2)"
      ],
      "metadata": {
        "colab": {
          "base_uri": "https://localhost:8080/"
        },
        "id": "MZtJpLPLKQgy",
        "outputId": "eaa4dcf4-240e-4253-b765-0597adc6805a"
      },
      "execution_count": 31,
      "outputs": [
        {
          "output_type": "execute_result",
          "data": {
            "text/plain": [
              "4"
            ]
          },
          "metadata": {},
          "execution_count": 31
        }
      ]
    },
    {
      "cell_type": "markdown",
      "source": [
        "Q.7 Create a lambda function to find the maximum value in a list of integers."
      ],
      "metadata": {
        "id": "5c9SKX4HKmq9"
      }
    },
    {
      "cell_type": "code",
      "source": [
        "num = [3,30,-5]\n",
        "\n",
        "max_value = lambda x: max(x)\n",
        "max_value(num)"
      ],
      "metadata": {
        "colab": {
          "base_uri": "https://localhost:8080/"
        },
        "id": "CznOMzK3KhIy",
        "outputId": "9db613d5-59e1-480d-d754-d5be1766e090"
      },
      "execution_count": 32,
      "outputs": [
        {
          "output_type": "execute_result",
          "data": {
            "text/plain": [
              "30"
            ]
          },
          "metadata": {},
          "execution_count": 32
        }
      ]
    },
    {
      "cell_type": "markdown",
      "source": [
        "Q.8 Implement a lambda function to filter out all the even numbers from a list of integers."
      ],
      "metadata": {
        "id": "qCZix6RtLqEh"
      }
    },
    {
      "cell_type": "code",
      "source": [
        "lst = [1,2,3,4,5,6]\n",
        "evn_lst = list(filter(lambda x: x%2==0, lst))\n",
        "evn_lst"
      ],
      "metadata": {
        "colab": {
          "base_uri": "https://localhost:8080/"
        },
        "id": "Us8ux7fNLlfe",
        "outputId": "eb5c1373-72e1-49ce-e60a-b4bb246600b2"
      },
      "execution_count": 33,
      "outputs": [
        {
          "output_type": "execute_result",
          "data": {
            "text/plain": [
              "[2, 4, 6]"
            ]
          },
          "metadata": {},
          "execution_count": 33
        }
      ]
    },
    {
      "cell_type": "markdown",
      "source": [
        "Q.9 Write a lambda function to sort a list of strings in ascending order based on the length of each string."
      ],
      "metadata": {
        "id": "uevS3F-nPWTk"
      }
    },
    {
      "cell_type": "code",
      "source": [
        "strn = ['pritam','ganpatrao','badwar']\n",
        "\n",
        "sort_strn = sorted(strn, key=lambda x: len(x))\n",
        "sort_strn"
      ],
      "metadata": {
        "colab": {
          "base_uri": "https://localhost:8080/"
        },
        "id": "2CjXdUlHMcyE",
        "outputId": "baaa3e98-eb9d-4f12-cf8a-5844637a03a7"
      },
      "execution_count": 34,
      "outputs": [
        {
          "output_type": "execute_result",
          "data": {
            "text/plain": [
              "['pritam', 'badwar', 'ganpatrao']"
            ]
          },
          "metadata": {},
          "execution_count": 34
        }
      ]
    },
    {
      "cell_type": "markdown",
      "source": [
        "Q.10 Create a lambda function that takes two lists as input and returns a new list containing the common elements between the two lists."
      ],
      "metadata": {
        "id": "YuxbpImfQpNS"
      }
    },
    {
      "cell_type": "code",
      "source": [
        "ls1 = [2,3,4,5]\n",
        "ls2 = [1,2,4,7,10]\n",
        "\n",
        "comm_ele = lambda a,b: list(filter(lambda x: x in b,a))\n",
        "comm_ele(ls1,ls2)"
      ],
      "metadata": {
        "colab": {
          "base_uri": "https://localhost:8080/"
        },
        "id": "q7dWF9BGPxMp",
        "outputId": "1f6fdfdc-4d45-46c4-89d8-61b7f88139de"
      },
      "execution_count": 35,
      "outputs": [
        {
          "output_type": "execute_result",
          "data": {
            "text/plain": [
              "[2, 4]"
            ]
          },
          "metadata": {},
          "execution_count": 35
        }
      ]
    },
    {
      "cell_type": "code",
      "source": [
        "#filter fun syntax\n",
        "filter(function, iterable)"
      ],
      "metadata": {
        "colab": {
          "base_uri": "https://localhost:8080/",
          "height": 187
        },
        "id": "KFwmCiIuRezM",
        "outputId": "e399a80c-114b-48f2-c986-2b80f492b875"
      },
      "execution_count": 2,
      "outputs": [
        {
          "output_type": "error",
          "ename": "NameError",
          "evalue": "ignored",
          "traceback": [
            "\u001b[0;31m---------------------------------------------------------------------------\u001b[0m",
            "\u001b[0;31mNameError\u001b[0m                                 Traceback (most recent call last)",
            "\u001b[0;32m<ipython-input-2-60cce47012f9>\u001b[0m in \u001b[0;36m<cell line: 2>\u001b[0;34m()\u001b[0m\n\u001b[1;32m      1\u001b[0m \u001b[0;31m#filter fun syntax\u001b[0m\u001b[0;34m\u001b[0m\u001b[0;34m\u001b[0m\u001b[0m\n\u001b[0;32m----> 2\u001b[0;31m \u001b[0mfilter\u001b[0m\u001b[0;34m(\u001b[0m\u001b[0mfunction\u001b[0m\u001b[0;34m,\u001b[0m \u001b[0miterable\u001b[0m\u001b[0;34m)\u001b[0m\u001b[0;34m\u001b[0m\u001b[0;34m\u001b[0m\u001b[0m\n\u001b[0m",
            "\u001b[0;31mNameError\u001b[0m: name 'function' is not defined"
          ]
        }
      ]
    },
    {
      "cell_type": "markdown",
      "source": [
        "Q.11 Write a recursive function to calculate the factorial of a given positive integer.\n"
      ],
      "metadata": {
        "id": "bmnGwDV-S4TX"
      }
    },
    {
      "cell_type": "code",
      "source": [
        "def fact(n):\n",
        "  if n == 0 or n == 1:\n",
        "    return 1\n",
        "  else:\n",
        "    return n*fact(n-1)\n",
        "fact(3)"
      ],
      "metadata": {
        "id": "i3Bx0vwyTE-e",
        "colab": {
          "base_uri": "https://localhost:8080/"
        },
        "outputId": "00f605b2-5132-4347-ff0a-12731c42a320"
      },
      "execution_count": 36,
      "outputs": [
        {
          "output_type": "execute_result",
          "data": {
            "text/plain": [
              "6"
            ]
          },
          "metadata": {},
          "execution_count": 36
        }
      ]
    },
    {
      "cell_type": "markdown",
      "source": [
        "Q.12 Implement a recursive function to compute the nth Fibonacci number."
      ],
      "metadata": {
        "id": "PWm-YtX5TFSp"
      }
    },
    {
      "cell_type": "code",
      "source": [
        "#fib series 0,1,1,2,3,5,8,13\n",
        "def fib(n):\n",
        "  #Base cases\n",
        "  if n == 0:\n",
        "    return 0\n",
        "  if n == 1:\n",
        "    return 1\n",
        "  if n == 2:\n",
        "    return 1\n",
        "  else:\n",
        "    #Recursive cases\n",
        "    return fib(n-1)+fib(n-2)\n",
        "\n",
        "fib(4)"
      ],
      "metadata": {
        "id": "IaebJBBaTKLA",
        "colab": {
          "base_uri": "https://localhost:8080/"
        },
        "outputId": "516a00f4-e6a6-474c-e47e-dfde233dd745"
      },
      "execution_count": 37,
      "outputs": [
        {
          "output_type": "execute_result",
          "data": {
            "text/plain": [
              "3"
            ]
          },
          "metadata": {},
          "execution_count": 37
        }
      ]
    },
    {
      "cell_type": "markdown",
      "source": [
        "Q.13 Create a recursive function to find the sum of all the elements in a given list."
      ],
      "metadata": {
        "id": "ClmAKjHmTJqM"
      }
    },
    {
      "cell_type": "code",
      "source": [
        "ls = [2,5,-1,7]\n",
        "\n",
        "def summ(lst):\n",
        "  #Base cases\n",
        "  if len(lst) == 0:\n",
        "    return 0\n",
        "  else:\n",
        "    #Recursive cases\n",
        "    return lst[0] + summ(lst[1:])\n",
        "\n",
        "summ(ls)"
      ],
      "metadata": {
        "id": "pupEoVPwTOHm",
        "colab": {
          "base_uri": "https://localhost:8080/"
        },
        "outputId": "49e4b6d3-9ba7-4fcb-937a-79d9d63c04c5"
      },
      "execution_count": 38,
      "outputs": [
        {
          "output_type": "execute_result",
          "data": {
            "text/plain": [
              "13"
            ]
          },
          "metadata": {},
          "execution_count": 38
        }
      ]
    },
    {
      "cell_type": "markdown",
      "source": [
        "Q.14 Write a recursive function to determine whether a given string is a palindrome."
      ],
      "metadata": {
        "id": "M4dfLtBSTOrb"
      }
    },
    {
      "cell_type": "code",
      "source": [
        "st = 'RADAR'\n",
        "\n",
        "def is_pal(stn):\n",
        "  #Base cases\n",
        "  if len(stn) <= 1:\n",
        "    return True\n",
        "  elif stn[0] != stn[-1]:\n",
        "    return False\n",
        "  else:\n",
        "    #Recursive cases\n",
        "    return is_pal(stn[1:-1])\n",
        "\n",
        "is_pal(st)"
      ],
      "metadata": {
        "id": "W_lTQIKATTVd",
        "colab": {
          "base_uri": "https://localhost:8080/"
        },
        "outputId": "2a3c297c-02f6-48a6-8ef2-fe078005c5d6"
      },
      "execution_count": 39,
      "outputs": [
        {
          "output_type": "execute_result",
          "data": {
            "text/plain": [
              "True"
            ]
          },
          "metadata": {},
          "execution_count": 39
        }
      ]
    },
    {
      "cell_type": "markdown",
      "source": [
        "Q.15 Implement a recursive function to find the greatest common divisor (GCD) of two positive integers."
      ],
      "metadata": {
        "id": "oreVVdB0TT3D"
      }
    },
    {
      "cell_type": "code",
      "source": [
        "def gcd(a, b):\n",
        "    if b == 0:\n",
        "        return a\n",
        "    else:\n",
        "        return gcd(b, a % b)\n",
        "\n",
        "gcd(24,36)"
      ],
      "metadata": {
        "id": "ofajbX-cS2SJ",
        "colab": {
          "base_uri": "https://localhost:8080/"
        },
        "outputId": "2672db8d-e422-4431-d989-756dbd3051dd"
      },
      "execution_count": 40,
      "outputs": [
        {
          "output_type": "execute_result",
          "data": {
            "text/plain": [
              "12"
            ]
          },
          "metadata": {},
          "execution_count": 40
        }
      ]
    },
    {
      "cell_type": "code",
      "source": [],
      "metadata": {
        "id": "vPH0NpQojM8_"
      },
      "execution_count": null,
      "outputs": []
    }
  ]
}