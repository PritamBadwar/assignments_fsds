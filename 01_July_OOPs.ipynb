{
  "nbformat": 4,
  "nbformat_minor": 0,
  "metadata": {
    "colab": {
      "provenance": [],
      "authorship_tag": "ABX9TyNP/LwETWr0H5gnrdzrOMK2",
      "include_colab_link": true
    },
    "kernelspec": {
      "name": "python3",
      "display_name": "Python 3"
    },
    "language_info": {
      "name": "python"
    }
  },
  "cells": [
    {
      "cell_type": "markdown",
      "metadata": {
        "id": "view-in-github",
        "colab_type": "text"
      },
      "source": [
        "<a href=\"https://colab.research.google.com/github/PritamBadwar/assignments_fsds/blob/main/01_July_OOPs.ipynb\" target=\"_parent\"><img src=\"https://colab.research.google.com/assets/colab-badge.svg\" alt=\"Open In Colab\"/></a>"
      ]
    },
    {
      "cell_type": "markdown",
      "source": [
        "1. What is the primary goal of Object-Oriented Programming (OOP)?\n",
        "Ans:\n",
        "  - Model real world entities and their interactions in a way that promotes code organisation, reusability and maintainability\n",
        "  - Key goals are:\n",
        "      - Encapsulation\n",
        "      - Abstraction\n",
        "      - Inheritance\n",
        "      - Polymorphism\n",
        "  - OOP has become the essential paradigm for developing robust, scalable and maintanable software applications"
      ],
      "metadata": {
        "id": "D6n0xtr_iK9t"
      }
    },
    {
      "cell_type": "markdown",
      "source": [
        "2. What is an object in Python?\n",
        "Ans:\n",
        "  - Its fundamental building block used to represent real world entities, data or concepts. Below are some keypoint of objects,\n",
        "    - Instances of classes\n",
        "    - Attributes (data)\n",
        "    - Methods (functions)\n",
        "    - Encapsulation\n",
        "    - Inheritance\n",
        "    - Polymorphism"
      ],
      "metadata": {
        "id": "hu61JW_oiUog"
      }
    },
    {
      "cell_type": "markdown",
      "source": [
        "3. What is a class in Python?\n",
        "Ans:\n",
        "  - It is a blueprinto or template that defines new data type\n",
        "  - it serves as a protyping for creating objects, which are instances of class\n",
        "  - class encapsulates attributes(data) and methods(functions) that operates on the data, allowing you to create objects with specified characteristics and behaviours"
      ],
      "metadata": {
        "id": "B-aQRj66iZPT"
      }
    },
    {
      "cell_type": "markdown",
      "source": [
        "4. What are attributes and methods in a class?\n",
        "Ans:\n",
        "  - Attributes and methods are two fundamental components that define the structure and behaviour of the objects created from that class. Together form the core functionality\n",
        "  - Attributes\n",
        "      - These are variables that store data specific to the class or objects(instances)\n",
        "      - They represents the characteristics or properties of the objects. Attributes defines the state of the objects\n",
        "      - Attributes defined and accessed using self keyword\n",
        "  - Methods\n",
        "      - Methods represents the behaviour of the objects\n",
        "      - these are functions that operates on the attributes or preform specific actions related to the class"
      ],
      "metadata": {
        "id": "WOf_nZiwiZX5"
      }
    },
    {
      "cell_type": "markdown",
      "source": [
        "5. What is the difference between class variables and instance variables in Python?\n",
        "Ans:\n",
        "  - Class variable\n",
        "    - These variables are shared amongst all instances (objects) of the class\n",
        "    - They have global scope in class and belong to class itself\n",
        "    - Can be accessed using class name, no need to use self\n",
        "    - if its values changed, it changes in all objects\n",
        "  - Instance variable\n",
        "    - They have scope local to given instances\n",
        "    - created and initialised within __init__() method using self keyword\n",
        "  - So both class and instance variable serves different purpose and scope"
      ],
      "metadata": {
        "id": "tBDjp31eiZhB"
      }
    },
    {
      "cell_type": "markdown",
      "source": [
        "6. What is the purpose of the self parameter in Python class methods?\n",
        "Ans:\n",
        "  - In Python, the self parameter in class methods is a special variable that represents the instance of the class.\n",
        "  - When you call a method on an instance of a class, python automatically passes instace(the objects) as a first argument to the method, hence you define method with the 'self' as the first parameter"
      ],
      "metadata": {
        "id": "96t1UFIJiZp5"
      }
    },
    {
      "cell_type": "markdown",
      "source": [
        "7. For a library management system, you have to design the \"Book\" class with OOP\n",
        "principles in mind. The “Book” class will have following attributes:\n",
        "a. title: Represents the title of the book.\n",
        "b. author: Represents the author(s) of the book.\n",
        "c. isbn: Represents the ISBN (International Standard Book Number) of the book.\n",
        "d. publication_year: Represents the year of publication of the book.\n",
        "e. available_copies: Represents the number of copies available for checkout.\n",
        "The class will also include the following methods:\n",
        "a. check_out(self): Decrements the available copies by one if there are copies\n",
        "available for checkout.\n",
        "b. return_book(self): Increments the available copies by one when a book is\n",
        "returned.\n",
        "c. display_book_info(self): Displays the information about the book, including its\n",
        "attributes and the number of available copies."
      ],
      "metadata": {
        "id": "Q8xMC5mRixpa"
      }
    },
    {
      "cell_type": "code",
      "source": [
        "class Book:\n",
        "  def __init__(self, title, author, isbn, publication_year, available_copies):\n",
        "    self.title = title\n",
        "    self.author = author\n",
        "    self.isbn = isbn\n",
        "    self.publication_year = publication_year\n",
        "    self.available_copies = available_copies\n",
        "\n",
        "  def check_out(self):\n",
        "    if self.available_copies > 0:\n",
        "      self.available_copies = self.available_copies - 1\n",
        "      print(f\"Book '{self.title}' checked out, {self.available_copies} copy(s) available\")\n",
        "    else:\n",
        "      print(f\"Book '{self.title}' is currently not available for checkout.\")\n",
        "\n",
        "  def return_book(self):\n",
        "    self.available_copies += 1\n",
        "    print(f\"Book '{self.title}' returned. {self.available_copies} copy(s) available.\")\n",
        "\n",
        "    def display_book_info(self):\n",
        "        print(f\"Title: {self.title}\")\n",
        "        print(f\"Author: {self.author}\")\n",
        "        print(f\"ISBN: {self.isbn}\")\n",
        "        print(f\"Publication Year: {self.publication_year}\")\n",
        "        print(f\"Available Copies: {self.available_copies}\")"
      ],
      "metadata": {
        "id": "dFkGLXZaQnco"
      },
      "execution_count": 89,
      "outputs": []
    },
    {
      "cell_type": "markdown",
      "source": [
        "8. For a ticket booking system, you have to design the \"Ticket\" class with OOP\n",
        "principles in mind. The “Ticket” class should have the following attributes:\n",
        "a. ticket_id: Represents the unique identifier for the ticket.\n",
        "b. event_name: Represents the name of the event.\n",
        "c. event_date: Represents the date of the event.\n",
        "d. venue: Represents the venue of the event.\n",
        "e. seat_number: Represents the seat number associated with the ticket.\n",
        "f. price: Represents the price of the ticket.\n",
        "g. is_reserved: Represents the reservation status of the ticket.\n",
        "The class also includes the following methods:\n",
        "a. reserve_ticket(self): Marks the ticket as reserved if it is not already reserved.\n",
        "b. cancel_reservation(self): Cancels the reservation of the ticket if it is already\n",
        "reserved.\n",
        "c. display_ticket_info(self): Displays the information about the ticket, including its\n",
        "attributes and reservation status."
      ],
      "metadata": {
        "id": "ZXcOsFMjixr-"
      }
    },
    {
      "cell_type": "code",
      "source": [
        "class Ticket:\n",
        "    def __init__(self, ticket_id, event_name, event_date, venue, seat_number, price, is_reserved=False):\n",
        "        self.ticket_id = ticket_id\n",
        "        self.event_name = event_name\n",
        "        self.event_date = event_date\n",
        "        self.venue = venue\n",
        "        self.seat_number = seat_number\n",
        "        self.price = price\n",
        "        self.is_reserved = is_reserved\n",
        "\n",
        "    def reserve_ticket(self):\n",
        "        if not self.is_reserved:\n",
        "            self.is_reserved = True\n",
        "            print(f\"Ticket {self.ticket_id} reserved successfully.\")\n",
        "        else:\n",
        "            print(f\"Ticket {self.ticket_id} is already reserved.\")\n",
        "\n",
        "    def cancel_reservation(self):\n",
        "        if self.is_reserved:\n",
        "            self.is_reserved = False\n",
        "            print(f\"Reservation for ticket {self.ticket_id} is canceled.\")\n",
        "        else:\n",
        "            print(f\"Ticket {self.ticket_id} is not reserved.\")\n",
        "\n",
        "    def display_ticket_info(self):\n",
        "        print(f\"Ticket ID: {self.ticket_id}\")\n",
        "        print(f\"Event Name: {self.event_name}\")\n",
        "        print(f\"Event Date: {self.event_date}\")\n",
        "        print(f\"Venue: {self.venue}\")\n",
        "        print(f\"Seat Number: {self.seat_number}\")\n",
        "        print(f\"Price: {self.price}\")\n",
        "        print(f\"Is Reserved: {'Yes' if self.is_reserved else 'No'}\")"
      ],
      "metadata": {
        "id": "lq3GS1a0EQYK"
      },
      "execution_count": 92,
      "outputs": []
    },
    {
      "cell_type": "code",
      "source": [
        "#creating a ticket instance\n",
        "ticket1 = Ticket(ticket_id=1, event_name=\"Concert\", event_date=\"2023-07-30\", venue=\"Stadium\", seat_number=\"A12\", price=100)\n",
        "\n",
        "ticket1.display_ticket_info()"
      ],
      "metadata": {
        "colab": {
          "base_uri": "https://localhost:8080/"
        },
        "id": "m3vJuAvgERUp",
        "outputId": "b50a50c4-3a44-4786-96fb-d6d83b72f213"
      },
      "execution_count": 93,
      "outputs": [
        {
          "output_type": "stream",
          "name": "stdout",
          "text": [
            "Ticket ID: 1\n",
            "Event Name: Concert\n",
            "Event Date: 2023-07-30\n",
            "Venue: Stadium\n",
            "Seat Number: A12\n",
            "Price: 100\n",
            "Is Reserved: No\n"
          ]
        }
      ]
    },
    {
      "cell_type": "code",
      "source": [
        "ticket1.reserve_ticket()"
      ],
      "metadata": {
        "colab": {
          "base_uri": "https://localhost:8080/"
        },
        "id": "TugiXk8sVoB2",
        "outputId": "25f1c485-c9d2-4077-9daa-9b47d64ec50a"
      },
      "execution_count": 94,
      "outputs": [
        {
          "output_type": "stream",
          "name": "stdout",
          "text": [
            "Ticket 1 reserved successfully.\n"
          ]
        }
      ]
    },
    {
      "cell_type": "code",
      "source": [
        "ticket1.cancel_reservation()"
      ],
      "metadata": {
        "colab": {
          "base_uri": "https://localhost:8080/"
        },
        "id": "HN4_ek-fV5K-",
        "outputId": "152b2795-5824-48bc-d717-d15ddbfee174"
      },
      "execution_count": 95,
      "outputs": [
        {
          "output_type": "stream",
          "name": "stdout",
          "text": [
            "Reservation for ticket 1 is canceled.\n"
          ]
        }
      ]
    },
    {
      "cell_type": "code",
      "source": [
        "ticket1.display_ticket_info()"
      ],
      "metadata": {
        "colab": {
          "base_uri": "https://localhost:8080/"
        },
        "id": "vOMjRR0ZYgOE",
        "outputId": "14bd50c1-a7a4-4f7b-d6ec-96b700f17b55"
      },
      "execution_count": 96,
      "outputs": [
        {
          "output_type": "stream",
          "name": "stdout",
          "text": [
            "Ticket ID: 1\n",
            "Event Name: Concert\n",
            "Event Date: 2023-07-30\n",
            "Venue: Stadium\n",
            "Seat Number: A12\n",
            "Price: 100\n",
            "Is Reserved: No\n"
          ]
        }
      ]
    },
    {
      "cell_type": "code",
      "source": [
        "ticket1.reserve_ticket()"
      ],
      "metadata": {
        "colab": {
          "base_uri": "https://localhost:8080/"
        },
        "id": "PJbpF1-PYrvj",
        "outputId": "97805bf8-2a58-49fe-f45e-04275a5f069d"
      },
      "execution_count": 97,
      "outputs": [
        {
          "output_type": "stream",
          "name": "stdout",
          "text": [
            "Ticket 1 reserved successfully.\n"
          ]
        }
      ]
    },
    {
      "cell_type": "code",
      "source": [
        "ticket1.display_ticket_info()"
      ],
      "metadata": {
        "colab": {
          "base_uri": "https://localhost:8080/"
        },
        "id": "JPJCYuNrYuUy",
        "outputId": "f7bdc7cb-25f4-4710-b379-777aa168060e"
      },
      "execution_count": 98,
      "outputs": [
        {
          "output_type": "stream",
          "name": "stdout",
          "text": [
            "Ticket ID: 1\n",
            "Event Name: Concert\n",
            "Event Date: 2023-07-30\n",
            "Venue: Stadium\n",
            "Seat Number: A12\n",
            "Price: 100\n",
            "Is Reserved: Yes\n"
          ]
        }
      ]
    },
    {
      "cell_type": "markdown",
      "source": [
        "9. You are creating a shopping cart for an e-commerce website. Using OOP to model\n",
        "the \"ShoppingCart\" functionality the class should contain following attributes and\n",
        "methods:\n",
        "a. items: Represents the list of items in the shopping cart.\n",
        "The class also includes the following methods:\n",
        "\n",
        "a. add_item(self, item): Adds an item to the shopping cart by appending it to the\n",
        "list of items.\n",
        "b. remove_item(self, item): Removes an item from the shopping cart if it exists in\n",
        "the list.\n",
        "c. view_cart(self): Displays the items currently present in the shopping cart.\n",
        "d. clear_cart(self): Clears all items from the shopping cart by reassigning an\n",
        "empty list to the items attribute."
      ],
      "metadata": {
        "id": "VwXnydL7ixum"
      }
    },
    {
      "cell_type": "code",
      "source": [
        "class ShoppingCart:\n",
        "  def __init__(self, items):\n",
        "    self.items = items\n",
        "\n",
        "  def add_item(self,item):\n",
        "    self.items.append(item)\n",
        "    print(f\"{item} added succesfully\")\n",
        "\n",
        "  def remove_item(self,item):\n",
        "    if item in self.items:\n",
        "      self.items.remove(item)\n",
        "      print(f\"{item} removed succesfully\")\n",
        "\n",
        "  def view_cart(self):\n",
        "    if len(self.items) > 0:\n",
        "      for x in self.items:\n",
        "        print(x)\n",
        "    else:\n",
        "      print(\"shopping cart is empty\")\n",
        "\n",
        "  def clear_cart(self):\n",
        "    self.items = []\n",
        "    print(\"shopping cart cleared\")"
      ],
      "metadata": {
        "id": "j2tCqhkDYs39"
      },
      "execution_count": 99,
      "outputs": []
    },
    {
      "cell_type": "code",
      "source": [
        "cart1 = ShoppingCart(['mobile','watch'])\n",
        "\n",
        "cart1.add_item(item='shoes')"
      ],
      "metadata": {
        "colab": {
          "base_uri": "https://localhost:8080/"
        },
        "id": "EIZFmDUWdHHW",
        "outputId": "d358867a-5efd-44d5-b8e8-0d3ea493422e"
      },
      "execution_count": 100,
      "outputs": [
        {
          "output_type": "stream",
          "name": "stdout",
          "text": [
            "shoes added succesfully\n"
          ]
        }
      ]
    },
    {
      "cell_type": "code",
      "source": [
        "cart1.view_cart()"
      ],
      "metadata": {
        "colab": {
          "base_uri": "https://localhost:8080/"
        },
        "id": "h4whrUGae3f5",
        "outputId": "d93ac1b3-f767-487a-e350-86cdd36d8afc"
      },
      "execution_count": 101,
      "outputs": [
        {
          "output_type": "stream",
          "name": "stdout",
          "text": [
            "mobile\n",
            "watch\n",
            "shoes\n"
          ]
        }
      ]
    },
    {
      "cell_type": "code",
      "source": [
        "cart1.remove_item('watch')\n",
        "cart1.view_cart()"
      ],
      "metadata": {
        "colab": {
          "base_uri": "https://localhost:8080/"
        },
        "id": "YI-a5UZBe9Bh",
        "outputId": "42151bb3-5e50-4404-e9c9-1ac8169bf61c"
      },
      "execution_count": 102,
      "outputs": [
        {
          "output_type": "stream",
          "name": "stdout",
          "text": [
            "watch removed succesfully\n",
            "mobile\n",
            "shoes\n"
          ]
        }
      ]
    },
    {
      "cell_type": "code",
      "source": [
        "cart1.clear_cart()\n",
        "cart1.view_cart()"
      ],
      "metadata": {
        "colab": {
          "base_uri": "https://localhost:8080/"
        },
        "id": "pJ3Xh2XOfF8n",
        "outputId": "0aabb8a9-fefe-4e65-c2ca-d60d4e1e5ab6"
      },
      "execution_count": 103,
      "outputs": [
        {
          "output_type": "stream",
          "name": "stdout",
          "text": [
            "shopping cart cleared\n",
            "shopping cart is empty\n"
          ]
        }
      ]
    },
    {
      "cell_type": "markdown",
      "source": [
        "10. Imagine a school management system. You have to design the \"Student\" class using\n",
        "OOP concepts.The “Student” class has the following attributes:\n",
        "a. name: Represents the name of the student.\n",
        "b. age: Represents the age of the student.\n",
        "c. grade: Represents the grade or class of the student.\n",
        "d. student_id: Represents the unique identifier for the student.\n",
        "e. attendance: Represents the attendance record of the student.\n",
        "The class should also include the following methods:\n",
        "a. update_attendance(self, date, status): Updates the attendance record of the\n",
        "student for a given date with the provided status (e.g., present or absent).\n",
        "b. get_attendance(self): Returns the attendance record of the student.\n",
        "c. get_average_attendance(self): Calculates and returns the average\n",
        "attendance percentage of the student based on their attendance record."
      ],
      "metadata": {
        "id": "vn2dlLXyixxN"
      }
    },
    {
      "cell_type": "code",
      "source": [
        "class Student:\n",
        "  def __init__(self, name, age, grade, student_id, attendance):\n",
        "    self.name = name\n",
        "    self.age = age\n",
        "    self.grade = grade\n",
        "    self.student_id = student_id\n",
        "    self.attendance = attendance\n",
        "\n",
        "  def update_attendance(self,date,status):\n",
        "    self.attendance[date] = status\n",
        "\n",
        "  def get_attendance(self):\n",
        "    print(self.attendance)\n",
        "\n",
        "  def get_average_attendance(self):\n",
        "    if not self.attendance:\n",
        "      return 0 #handle the case when dict is empty to avoid divide by zero error\n",
        "    ct_present = sum(1 for x in self.attendance.values() if x == 'Present')\n",
        "    avg_attendance = ct_present/len(self.attendance)\n",
        "    return avg_attendance"
      ],
      "metadata": {
        "id": "zJEaKOpHfALD"
      },
      "execution_count": 104,
      "outputs": []
    },
    {
      "cell_type": "code",
      "source": [
        "student1 = Student(name='Dadu', age=3, grade='1st', student_id='101', attendance={})\n",
        "\n",
        "student1.update_attendance(date=1, status='Present')"
      ],
      "metadata": {
        "id": "jXnpFd_me76s"
      },
      "execution_count": 105,
      "outputs": []
    },
    {
      "cell_type": "code",
      "source": [
        "student1.get_attendance()"
      ],
      "metadata": {
        "colab": {
          "base_uri": "https://localhost:8080/"
        },
        "id": "DH_eZbpwpyOf",
        "outputId": "99ca6405-6b89-45d6-ed2e-3c62e618a393"
      },
      "execution_count": 106,
      "outputs": [
        {
          "output_type": "stream",
          "name": "stdout",
          "text": [
            "{1: 'Present'}\n"
          ]
        }
      ]
    },
    {
      "cell_type": "code",
      "source": [
        "student1.update_attendance(date=2, status='Absent')\n",
        "student1.get_attendance()"
      ],
      "metadata": {
        "colab": {
          "base_uri": "https://localhost:8080/"
        },
        "id": "nLqDaYJvqKew",
        "outputId": "58bd05a3-642a-41da-eda7-1c55dcdc1367"
      },
      "execution_count": 107,
      "outputs": [
        {
          "output_type": "stream",
          "name": "stdout",
          "text": [
            "{1: 'Present', 2: 'Absent'}\n"
          ]
        }
      ]
    },
    {
      "cell_type": "code",
      "source": [
        "student1.get_average_attendance()"
      ],
      "metadata": {
        "colab": {
          "base_uri": "https://localhost:8080/"
        },
        "id": "9Hknys0RqWl3",
        "outputId": "c3706b1f-ac84-4a3f-b0b2-3d75ddd51c6f"
      },
      "execution_count": 108,
      "outputs": [
        {
          "output_type": "execute_result",
          "data": {
            "text/plain": [
              "0.5"
            ]
          },
          "metadata": {},
          "execution_count": 108
        }
      ]
    }
  ]
}