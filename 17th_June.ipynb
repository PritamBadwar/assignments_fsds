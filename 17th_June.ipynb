{
  "nbformat": 4,
  "nbformat_minor": 0,
  "metadata": {
    "colab": {
      "provenance": [],
      "authorship_tag": "ABX9TyM2sskN//KyRl5HRK3rvUTs",
      "include_colab_link": true
    },
    "kernelspec": {
      "name": "python3",
      "display_name": "Python 3"
    },
    "language_info": {
      "name": "python"
    }
  },
  "cells": [
    {
      "cell_type": "markdown",
      "metadata": {
        "id": "view-in-github",
        "colab_type": "text"
      },
      "source": [
        "<a href=\"https://colab.research.google.com/github/PritamBadwar/assignments_fsds/blob/main/17th_June.ipynb\" target=\"_parent\"><img src=\"https://colab.research.google.com/assets/colab-badge.svg\" alt=\"Open In Colab\"/></a>"
      ]
    },
    {
      "cell_type": "markdown",
      "source": [
        "Q1. What is the role of try and exception block?\n",
        "\n",
        "Ans:\n",
        "- Is use for error handling, its also called as try-catch block\n",
        "- It checks if error and provide alternative action or messsage, so as to avoid program getting crashed\n",
        "- Syntax below"
      ],
      "metadata": {
        "id": "cuK8jmc1kS2e"
      }
    },
    {
      "cell_type": "code",
      "execution_count": null,
      "metadata": {
        "id": "jBj0ogD9kK8F"
      },
      "outputs": [],
      "source": [
        "try:\n",
        "  #code that may raise exception\n",
        "  #..\n",
        "except ExceptionType:\n",
        "  #code to handle exception\n",
        "  #.."
      ]
    },
    {
      "cell_type": "markdown",
      "source": [
        "Q2. What is the syntax for a basic try-except block?"
      ],
      "metadata": {
        "id": "xEtpbFfikO1d"
      }
    },
    {
      "cell_type": "code",
      "source": [
        "try:\n",
        "  #code that may raise exception\n",
        "  #..\n",
        "except ExceptionType:\n",
        "  #code to handle exception\n",
        "  #.."
      ],
      "metadata": {
        "id": "QZKUp4ppkf_G"
      },
      "execution_count": null,
      "outputs": []
    },
    {
      "cell_type": "markdown",
      "source": [
        "Q3. What happens if an exception occurs inside a try block and there is no matching except block?\n",
        "Ans:\n",
        "- In such cases, the exception will propogate outside they try block to look out for exception block that can handle given exception,\n",
        "- if there is any such outer try except block, control will be given to it to handle given exception\n",
        "- if there is no suitable handler, the program will terminate with unhandled exception error\n",
        "- so its imp to anticipate type of exceptions that might occur and include appropriate except block to handle them\n",
        "- This helps program gracefully handle errors and continue execution or preform necessary cleanup operations when exception occurs"
      ],
      "metadata": {
        "id": "JY08z2gKkgd4"
      }
    },
    {
      "cell_type": "markdown",
      "source": [
        "Q4. What is the difference between using a bare except block and specifying a specific\n",
        "exception type?\n",
        "Ans:\n",
        "  - Bare Except block:\n",
        "    - In such cases, it acts as catch all for any exceptions that occurs within try block\n",
        "    - Means, regards of type of exception, code inside exception block will execute\n",
        "    - but its not recommended, as it can make difficult to identify and debug specific exceptions, it can also lead to catching and handling exceptions you didnt intend to handle.\n",
        "  - Specific except block:\n",
        "    - Considerd as best practice, because it improves code clarity, maintanibility and debugging\n",
        "    - This allow for more targetted and appropriate handling of exceptions\n",
        "    - It provide better control over exception handling process"
      ],
      "metadata": {
        "id": "80bcr-2Ok5sw"
      }
    },
    {
      "cell_type": "markdown",
      "source": [
        "Q5. Can you have nested try-except blocks in Python? If yes, then give an example.\n",
        "Ans:\n",
        "  - Yes, same can be inside another try block or except block"
      ],
      "metadata": {
        "id": "GK_GWmBAk_ek"
      }
    },
    {
      "cell_type": "code",
      "source": [
        "#e.g below\n",
        "try:\n",
        "  #outer try block\n",
        "  out_var = 10/0\n",
        "except ZeroDivisionError:\n",
        "  print(\"Error: Division by Zero\")\n",
        "\n",
        "  try:\n",
        "    #inner try block\n",
        "    inn_var = int('abc')\n",
        "  except ValueError:\n",
        "    print(\"invalid conversion\")\n",
        "\n",
        "#nested try block can provide for granular control to handle exceptions and if inner exception\n",
        "#is related to outer exception"
      ],
      "metadata": {
        "id": "cz23dc5VlCIN",
        "colab": {
          "base_uri": "https://localhost:8080/"
        },
        "outputId": "6d5c180d-01c7-4fcb-a7d5-47720bd4344e"
      },
      "execution_count": 1,
      "outputs": [
        {
          "output_type": "stream",
          "name": "stdout",
          "text": [
            "Error: Division by Zero\n",
            "invalid conversion\n"
          ]
        }
      ]
    },
    {
      "cell_type": "markdown",
      "source": [
        "Q6. Can we use multiple exception blocks, if yes then give an example."
      ],
      "metadata": {
        "id": "pCdTMoBglCUt"
      }
    },
    {
      "cell_type": "code",
      "source": [
        "#Yes, e.g below\n",
        "try:\n",
        "  num = int(input(\"input a num: \"))\n",
        "  res = 10/num\n",
        "  print(\"result is\", res)\n",
        "except ValueError:\n",
        "  print(\"Invalid input: entered number is invalid\")\n",
        "except ZeroDivisionError:\n",
        "  print(\"Error: number getting divided by zero\")\n",
        "except Exception as e:\n",
        "  print(\"An error occured: \", str(e))\n",
        "\n",
        "#exception as e to handle any kind of exception\n",
        "#as python executes first block first what matches with exception\n",
        "#hence imp to keep specific exceptions on top and then mentioning general exceptions"
      ],
      "metadata": {
        "id": "E7IVkFHOlEmQ",
        "colab": {
          "base_uri": "https://localhost:8080/"
        },
        "outputId": "b41aabdf-de94-4415-c8b2-5d195c33cbbc"
      },
      "execution_count": 5,
      "outputs": [
        {
          "output_type": "stream",
          "name": "stdout",
          "text": [
            "input a num: 0.0\n",
            "Invalid input: entered number is invalid\n"
          ]
        }
      ]
    },
    {
      "cell_type": "markdown",
      "source": [
        "Q7. Write the reason due to which following errors are raised:\n",
        "a. EOFError\n",
        "b. FloatingPointError\n",
        "c. IndexError\n",
        "d. MemoryError\n",
        "e. OverflowError\n",
        "f. TabError\n",
        "g. ValueError\n",
        "\n",
        "a. EOFError: This error is raised when the built-in input() function reaches the end of the file or input stream before receiving any input. It typically occurs when you expect user input but encounter an unexpected end of file condition.\n",
        "\n",
        "b. FloatingPointError: This error is raised when a floating-point operation fails to produce a valid result. It usually occurs in situations like dividing by zero or performing an invalid mathematical operation on floating-point numbers.\n",
        "\n",
        "c. IndexError: This error is raised when you try to access an index of a sequence (such as a list or string) that is out of range. It occurs when you provide an index that is either negative or exceeds the maximum index value for the given sequence.\n",
        "\n",
        "d. MemoryError: This error is raised when an operation cannot be completed due to insufficient memory. It occurs when your program tries to allocate more memory than what is available or when the system's memory resources are exhausted.\n",
        "\n",
        "e. OverflowError: This error is raised when the result of an arithmetic operation exceeds the maximum representable value for a numeric type. It typically occurs when performing calculations that produce a value outside the range supported by the numeric type.\n",
        "\n",
        "f. TabError: This error is raised when there are inconsistent or incorrect uses of tabs and spaces for indentation in Python code. It occurs when the indentation level of lines within a block is not consistent or when tabs and spaces are mixed in an inconsistent manner.\n",
        "\n",
        "g. ValueError: This error is raised when a function receives an argument of the correct type but an inappropriate value. It can occur in various situations, such as trying to convert a string to an integer when the string does not represent a valid integer or passing an invalid argument to a function.\n",
        "\n"
      ],
      "metadata": {
        "id": "Vq92oHZUlEwn"
      }
    },
    {
      "cell_type": "markdown",
      "source": [
        "Q8. Write code for the following given scenario and add try-exception block to it.\n",
        "a. Program to divide two numbers\n",
        "b. Program to convert a string to an integer\n",
        "c. Program to access an element in a list\n",
        "d. Program to handle a specific exception\n",
        "e. Program to handle any exception"
      ],
      "metadata": {
        "id": "otaf2fMylP5c"
      }
    },
    {
      "cell_type": "code",
      "source": [
        "#1. Program to divide two numbers\n",
        "try:\n",
        "  a = int(input(\"enter first number: \"))\n",
        "  b = int(input(\"enter second number: \"))\n",
        "  res = a/b\n",
        "  print(\"result is\", res)\n",
        "except ZeroDivisionError:\n",
        "  print(\"Error: division by zero not allowed, we are adding 1 to b\")\n",
        "  b = b+1\n",
        "  print(\"new result is\", a/b)"
      ],
      "metadata": {
        "id": "KtoaOoU6ld1s",
        "colab": {
          "base_uri": "https://localhost:8080/"
        },
        "outputId": "ff5175f8-791d-4c38-8efb-76d1f381d454"
      },
      "execution_count": 12,
      "outputs": [
        {
          "output_type": "stream",
          "name": "stdout",
          "text": [
            "enter first number: 10\n",
            "enter second number: 0\n",
            "Error: division by zero not allowed, we are adding 1 to b\n",
            "new result is 10.0\n"
          ]
        }
      ]
    },
    {
      "cell_type": "code",
      "source": [
        "#2. Program to convert a string to an integer\n",
        "try:\n",
        "  c = int(input(\"input a number: \"))\n",
        "  print(c)\n",
        "except ValueError:\n",
        "  print(\"Error, invalid input type\")"
      ],
      "metadata": {
        "colab": {
          "base_uri": "https://localhost:8080/"
        },
        "id": "2_rovnf-nH4e",
        "outputId": "138e96c1-4cbe-45c7-ff01-f251542cb62c"
      },
      "execution_count": 18,
      "outputs": [
        {
          "output_type": "stream",
          "name": "stdout",
          "text": [
            "input a number: abc\n",
            "Error, invalid input type\n"
          ]
        }
      ]
    },
    {
      "cell_type": "code",
      "source": [
        "#3. Program to access an element in a list\n",
        "try:\n",
        "  a = [1,5,6]\n",
        "  print(a[len(a)])\n",
        "except IndexError:\n",
        "  print(\"index error: list index out of range\")\n",
        "  print(a[len(a)-1])"
      ],
      "metadata": {
        "colab": {
          "base_uri": "https://localhost:8080/"
        },
        "id": "GkbGR793nOm-",
        "outputId": "8e58ceda-077a-4f71-b27e-f575bd4b5f83"
      },
      "execution_count": 23,
      "outputs": [
        {
          "output_type": "stream",
          "name": "stdout",
          "text": [
            "index error: list index out of range\n",
            "6\n"
          ]
        }
      ]
    },
    {
      "cell_type": "code",
      "source": [
        "# d. Program to handle a specific exception\n",
        "try:\n",
        "    x = 5 / 0  # This will raise a ZeroDivisionError\n",
        "except ZeroDivisionError:\n",
        "    print(\"Error: Division by zero occurred.\")"
      ],
      "metadata": {
        "colab": {
          "base_uri": "https://localhost:8080/"
        },
        "id": "Oe2LBFzwoypS",
        "outputId": "19dd3d63-8f49-493d-cb65-4a749c9d6fd1"
      },
      "execution_count": 24,
      "outputs": [
        {
          "output_type": "stream",
          "name": "stdout",
          "text": [
            "Error: Division by zero occurred.\n"
          ]
        }
      ]
    },
    {
      "cell_type": "code",
      "source": [
        "# Program to handle any exception:\n",
        "try:\n",
        "    x = 5 / 0  # This will raise a ZeroDivisionError\n",
        "except Exception as e:\n",
        "    print(\"An error occurred:\", str(e))"
      ],
      "metadata": {
        "colab": {
          "base_uri": "https://localhost:8080/"
        },
        "id": "Y8uYRVURo0tq",
        "outputId": "ff3be561-5a95-45d8-820e-992095620d7c"
      },
      "execution_count": 25,
      "outputs": [
        {
          "output_type": "stream",
          "name": "stdout",
          "text": [
            "An error occurred: division by zero\n"
          ]
        }
      ]
    },
    {
      "cell_type": "code",
      "source": [],
      "metadata": {
        "id": "yuYmDpKlpjVB"
      },
      "execution_count": null,
      "outputs": []
    }
  ]
}